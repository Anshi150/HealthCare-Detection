{
 "cells": [
  {
   "cell_type": "code",
   "execution_count": null,
   "id": "f0cd2d99-e6d0-48bf-ae9e-5ac568b719b5",
   "metadata": {},
   "outputs": [
    {
     "name": "stdout",
     "output_type": "stream",
     "text": [
      "File processed and saved as CSV and Excel.\n"
     ]
    }
   ],
   "source": [
    "\n",
    "import pandas as pd\n",
    "\n",
    "# Read the file\n",
    "with open(\"disease datasets.txt\", \"r\", encoding=\"utf-8\") as file:\n",
    "    lines = file.readlines()\n",
    "\n",
    "# Process the data\n",
    "data = []\n",
    "for line in lines:\n",
    "    # Split the line into columns, handling quoted fields\n",
    "    parts = line.strip().split(\",\", 3)  # Split into 4 parts: Code, Name, Symptoms, Treatments\n",
    "    if len(parts) == 4:\n",
    "        data.append(parts)\n",
    "\n",
    "# Create a DataFrame\n",
    "df = pd.DataFrame(data, columns=[\"Code\", \"Name\", \"Symptoms\", \"Treatments\"])\n",
    "\n",
    "# Save to CSV\n",
    "df.to_csv(\"disease-datasets-cleaned.csv\", index=False)\n",
    "\n",
    "# # Save to Excel\n",
    "# df.to_excel(\"disease-datasets-cleaned.xlsx\", index=False)\n",
    "\n",
    "print(\"File processed and saved as CSV and Excel.\")"
   ]
  },
  {
   "cell_type": "code",
   "execution_count": null,
   "id": "5c05565b-04ce-41f4-b7ce-a930e49ae480",
   "metadata": {},
   "outputs": [],
   "source": []
  }
 ],
 "metadata": {
  "kernelspec": {
   "display_name": "Python 3 (ipykernel)",
   "language": "python",
   "name": "python3"
  },
  "language_info": {
   "codemirror_mode": {
    "name": "ipython",
    "version": 3
   },
   "file_extension": ".py",
   "mimetype": "text/x-python",
   "name": "python",
   "nbconvert_exporter": "python",
   "pygments_lexer": "ipython3",
   "version": "3.10.0"
  }
 },
 "nbformat": 4,
 "nbformat_minor": 5
}
